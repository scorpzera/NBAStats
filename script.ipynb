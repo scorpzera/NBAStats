{
 "cells": [
  {
   "cell_type": "markdown",
   "metadata": {},
   "source": [
    "Importing necessary libraries        "
   ]
  },
  {
   "cell_type": "code",
   "execution_count": null,
   "metadata": {},
   "outputs": [],
   "source": [
    "from bs4 import BeautifulSoup\n",
    "import requests\n",
    "import pandas as pd\n",
    "from io import StringIO       "
   ]
  },
  {
   "cell_type": "markdown",
   "metadata": {},
   "source": [
    "Year to be analyzed (The year the playoff season is played in, i.e 2022 = 2021-22 season)\n"
   ]
  },
  {
   "cell_type": "code",
   "execution_count": 2,
   "metadata": {},
   "outputs": [],
   "source": [
    "year = 2000                           "
   ]
  },
  {
   "cell_type": "markdown",
   "metadata": {},
   "source": [
    "Creating a list containing the name of all players who played in the selected season"
   ]
  },
  {
   "cell_type": "code",
   "execution_count": null,
   "metadata": {},
   "outputs": [],
   "source": [
    "URL = f'https://www.basketball-reference.com/leagues/NBA_{year}_totals.html#totals_stats::pts'\n",
    "\n",
    "site = requests.get(URL)\n",
    "soup = BeautifulSoup(site.text, 'html')\n",
    "table = soup.find('table')\n",
    "tbody = table.find('tbody')\n",
    "playername = tbody.find_all('td', {'data-stat':'player'})                \n",
    "realplayernames = [name.text for name in playername]\n",
    "realplayernames = list(dict.fromkeys(realplayernames)) #Removing duplicated names"
   ]
  },
  {
   "cell_type": "markdown",
   "metadata": {},
   "source": [
    "Now we need to get the dynamic parts from the URL, as we are going to access all the players' pages to get the data needed"
   ]
  },
  {
   "cell_type": "code",
   "execution_count": 4,
   "metadata": {},
   "outputs": [],
   "source": [
    "tr = tbody.find_all('tr')\n",
    "urlname = []\n",
    "\n",
    "for i in tr:\n",
    "    td = i.find('td')\n",
    "    if td is not None:\n",
    "        urlname.append(list(td.attrs.values())[1])\n",
    "\n",
    "urlname = list(dict.fromkeys(urlname))"
   ]
  },
  {
   "cell_type": "code",
   "execution_count": 5,
   "metadata": {},
   "outputs": [],
   "source": [
    "first_letter = []\n",
    "for i in realplayernames:\n",
    "    first_letter.append(i[:1])"
   ]
  },
  {
   "cell_type": "markdown",
   "metadata": {},
   "source": [
    "Now, we loop into all the players' URLs and grab the points per game in the season. Then we store it into a table, which the columns are the name and the games played in the season (1-82)"
   ]
  },
  {
   "cell_type": "code",
   "execution_count": 6,
   "metadata": {},
   "outputs": [],
   "source": [
    "from time import sleep\n",
    "\n",
    "headers = list(range(1,83))\n",
    "headers.insert(0,'Player')\n",
    "dff = pd.DataFrame(columns = headers)\n",
    "\n",
    "ignore_rows = [20,41,62,83]\n",
    "\n",
    "for x in range(0,len(realplayernames)):\n",
    "    URL = f'https://www.basketball-reference.com/players/{first_letter[x]}/{urlname[x]}/gamelog/{year}'\n",
    "    sleep(5)   #We must wait 5 seconds before another request, so we won't overwhelm the web server\n",
    "    site = requests.get(URL)\n",
    "    soup = BeautifulSoup(site.text,'html')\n",
    "    table = soup.find('table',{'id':'pgl_basic'})\n",
    "    tbody = table.find('tbody')\n",
    "    tr = tbody.find_all('tr')\n",
    "\n",
    "    points = []\n",
    "    for k in range(0,len(tr)):\n",
    "        points_value = tr[k].find('td',{'data-stat':'pts'})\n",
    "        if points_value is not None: \n",
    "            points.append(int(points_value.text))\n",
    "        elif k not in ignore_rows:\n",
    "            points.append(0)\n",
    "    if len(points) < 82:   #Some players play more than 82 games (mid-season transfers), and others play less than 82 (dropped from NBA), so we must fill/cut down the list to 82 elements, so it is possible to concatenate into the main table\n",
    "        for i in range(0,(83 - len(points))):\n",
    "            points.append(0)\n",
    "    new_row = points[0:82]\n",
    "    new_row.insert(0,realplayernames[x])\n",
    "    new_df = pd.DataFrame([new_row], columns = dff.columns)\n",
    "    dff = pd.concat([dff,new_df], ignore_index = True)\n"
   ]
  },
  {
   "cell_type": "markdown",
   "metadata": {},
   "source": [
    "The following code section sums all the columns with the previous column, as we are interested in cumulative points as the games are played into the season. This fits very well to analyze which player was the top scorer in certain point in the season, and many other insights, like how given player was performing until getting injured/suspended, etc. "
   ]
  },
  {
   "cell_type": "code",
   "execution_count": 7,
   "metadata": {},
   "outputs": [],
   "source": [
    "for x in range(2,83):\n",
    "    dff[x] = dff[[x-1,x]].sum(axis=1)"
   ]
  },
  {
   "cell_type": "markdown",
   "metadata": {},
   "source": [
    "Now, we sort our table by top scorers at the end of regular season"
   ]
  },
  {
   "cell_type": "code",
   "execution_count": 8,
   "metadata": {},
   "outputs": [],
   "source": [
    "dff = dff.sort_values(by=82,ascending=False)"
   ]
  },
  {
   "cell_type": "markdown",
   "metadata": {},
   "source": [
    "And finnaly, we save our data into a csv file."
   ]
  },
  {
   "cell_type": "code",
   "execution_count": 11,
   "metadata": {},
   "outputs": [],
   "source": [
    "dff.to_csv(f'NBA {year - 1}-{str(year)[2:]} Regular Season Scoring Leaders.csv', index=False)"
   ]
  }
 ],
 "metadata": {
  "kernelspec": {
   "display_name": "Python 3",
   "language": "python",
   "name": "python3"
  },
  "language_info": {
   "codemirror_mode": {
    "name": "ipython",
    "version": 3
   },
   "file_extension": ".py",
   "mimetype": "text/x-python",
   "name": "python",
   "nbconvert_exporter": "python",
   "pygments_lexer": "ipython3",
   "version": "3.12.2"
  }
 },
 "nbformat": 4,
 "nbformat_minor": 2
}
