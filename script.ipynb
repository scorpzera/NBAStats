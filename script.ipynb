{
 "cells": [
  {
   "cell_type": "code",
   "execution_count": 15,
   "metadata": {},
   "outputs": [],
   "source": [
    "from bs4 import BeautifulSoup\n",
    "import requests\n",
    "import pandas as pd\n",
    "from io import StringIO"
   ]
  },
  {
   "cell_type": "code",
   "execution_count": 63,
   "metadata": {},
   "outputs": [],
   "source": [
    "year = 2000"
   ]
  },
  {
   "cell_type": "code",
   "execution_count": 64,
   "metadata": {},
   "outputs": [
    {
     "name": "stdout",
     "output_type": "stream",
     "text": [
      "['Tariq Abdul-Wahad', 'Shareef Abdur-Rahim', 'Cory Alexander', 'Ray Allen*', 'Rafer Alston', 'John Amaechi', 'Derek Anderson', 'Kenny Anderson', 'Nick Anderson', 'Shandon Anderson', 'Chris Anstey', 'Greg Anthony', 'B.J. Armstrong', 'Darrell Armstrong', 'Chucky Atkins', 'Stacey Augmon', 'Isaac Austin', 'Anthony Avent', 'William Avery', 'Toby Bailey', 'Vin Baker', 'Charles Barkley*', 'Dana Barros', 'Brent Barry', 'Drew Barry', 'Jon Barry', 'Tony Battie', 'Jonathan Bender', 'Benoit Benjamin', 'Corey Benjamin', 'Mario Bennett', 'Travis Best', 'Mike Bibby', 'Chauncey Billups', 'Mookie Blaylock', 'Corie Blount', 'Muggsy Bogues', 'Etdrick Bohannon', 'Calvin Booth', 'Lazaro Borrell', 'Cal Bowdler', 'Bruce Bowen', 'Ryan Bowen', 'Ira Bowman', 'Earl Boykins', 'Shawn Bradley', 'A.J. Bramlett', 'Elton Brand', 'Terrell Brandon', 'Chucky Brown', 'Dee Brown', 'Marcus Brown', 'P.J. Brown', 'Randy Brown', 'Rick Brunson', 'Kobe Bryant*', 'Mark Bryant', 'Greg Buckner', 'Jud Buechler', 'Rodney Buford', 'Matt Bullard', 'Scott Burrell', 'Jason Caffey', 'Michael Cage', 'Marcus Camby', 'Elden Campbell', 'Antoine Carr', 'Chris Carr', 'Anthony Carter', 'Vince Carter', 'Sam Cassell', 'Kelvin Cato', 'Duane Causwell', 'Cedric Ceballos', 'John Celestand', 'Rex Chapman', 'Calbert Cheaney', 'Pete Chilcutt', 'Chris Childs', 'Doug Christie', 'Keon Clark', 'Keith Closs', 'Derrick Coleman', 'Bimbo Coles', 'Marty Conlon', 'Tyrone Corbin', 'Chris Crawford', 'Austin Croshere', 'John Crotty', 'Terry Cummings', 'Vonteego Cummings', 'Bill Curley', 'Dell Curry', 'Michael Curry', 'Erick Dampier', 'Antonio Daniels', 'Kornél Dávid', 'Antonio Davis', 'Baron Davis', 'Ben Davis', 'Dale Davis', 'Emanual Davis', 'Hubert Davis', 'Mark Davis', 'Ricky Davis', 'Todd Day', 'Andrew DeClercq', 'Vinny Del Negro', 'Tony Delk', 'Derrick Dial', 'Michael Dickerson', 'Vlade Divac*', 'Michael Doleac', 'Sherman Douglas', 'Bryce Drew', 'Chris Dudley', 'Tim Duncan*', 'Howard Eisley', 'Obinna Ekezie', 'Mario Elie', 'Sean Elliott', 'Dale Ellis', 'LaPhonso Ellis', 'Pervis Ellison', 'Evan Eschmeyer', 'Patrick Ewing*', 'Tony Farmer', 'Jamie Feick', 'Danny Ferry', 'Michael Finley', 'Derek Fisher', 'Danny Fortson', 'Greg Foster', 'Jeff Foster', 'Rick Fox', 'Adonal Foyle', 'Steve Francis', 'Todd Fuller', 'Lawrence Funderburke', 'Kevin Garnett*', 'Dean Garrett', 'Kiwane Lemorris Garris', 'Pat Garrity', 'Chris Gatling', 'Matt Geiger', 'Devean George', 'Kendall Gill', 'Armen Gilliam', 'Dion Glover', 'Brian Grant', 'Gary Grant', 'Horace Grant', 'Devin Gray', 'A.C. Green', 'Adrian Griffin', 'Tom Gugliotta', 'Darvin Ham', 'Richard Hamilton', 'Thomas Hamilton', 'Tom Hammonds', 'Anfernee Hardaway', 'Tim Hardaway*', 'Ron Harper', 'Matt Harpring', 'Al Harrington', 'Othella Harrington', 'Lucious Harris', 'Antonio Harvey', 'Hersey Hawkins', 'Michael Hawkins', 'Alan Henderson', 'Cedric Henderson', 'Mark Hendrickson', 'Chris Herren', 'Grant Hill*', 'Tyrone Hill', 'Fred Hoiberg', 'Derek Hood', 'Jeff Hornacek', 'Robert Horry', 'Allan Houston', 'Juwan Howard', 'Troy Hudson', 'Larry Hughes', 'Rick Hughes', 'Lindsey Hunter', 'Allen Iverson*', 'Bobby Jackson', 'Jaren Jackson', 'Jermaine Jackson', 'Jim Jackson', 'Mark Jackson', 'Randell Jackson', 'Sam Jacobson', 'Tim James', 'Antawn Jamison', 'Harold Jamison', 'Anthony Johnson', 'Avery Johnson', 'DeMarco Johnson', 'Ervin Johnson', 'Kevin Johnson', 'Larry Johnson', 'Charles Jones', 'Damon Jones', 'Eddie Jones', 'Jumaine Jones', 'Popeye Jones', 'Reggie Jordan', 'Adam Keefe', 'Shawn Kemp', 'Steve Kerr', 'Jerome Kersey', 'Lari Ketner', 'Jason Kidd*', 'Gerard King', 'Kerry Kittles', 'Joe Kleine', 'Brevin Knight', 'Travis Knight', 'Toni Kukoč*', 'Christian Laettner', 'Raef LaFrentz', 'Andrew Lang', 'Antonio Lang', 'Trajan Langdon', 'Rusty LaRue', 'Tim Legler', 'Voshon Lenard', 'Quincy Lewis', 'Rashard Lewis', 'Randy Livingston', 'Grant Long', 'Luc Longley', 'Felipe López', 'Tyronn Lue', 'George Lynch', 'Todd MacCulloch', 'Sam Mack', 'Don MacLean', 'Corey Maggette', 'Dan Majerle', 'Karl Malone*', 'Matt Maloney', 'Danny Manning', 'Stephon Marbury', 'Shawn Marion', 'Sean Marks', 'Donny Marshall', 'Donyell Marshall', 'Darrick Martin', 'Jamal Mashburn', 'Anthony Mason', 'Tony Massenburg', 'Vernon Maxwell', 'Walter McCarty', 'George McCloud', 'Jelani McCoy', 'Antonio McDyess', 'Tracy McGrady*', 'Jim McIlvaine', 'Jeff McInnis', 'Derrick McKey', 'Aaron McKie', 'Roshown McLeod', 'Ron Mercer', 'Andre Miller', 'Anthony Miller', 'Brad Miller', 'Oliver Miller', 'Reggie Miller*', 'Chris Mills', 'Terry Mills', 'Jason Miskiri', 'Sam Mitchell', 'Cuttino Mobley', 'Nazr Mohammed', 'Eric Montross', 'Mikki Moore', 'Alonzo Mourning*', 'Chris Mullin*', 'Eric Murdock', 'Gheorghe Mureșan', 'Lamond Murray', 'Tracy Murray', 'Dikembe Mutombo*', 'Steve Nash*', 'Tyrone Nesby', 'Rasho Nesterović', 'Johnny Newman', 'Moochie Norris', 'Dirk Nowitzki*', \"Jermaine O'Neal\", \"Shaquille O'Neal*\", 'Charles Oakley', 'Lamar Odom', 'Hakeem Olajuwon*', 'Kevin Ollie', 'Michael Olowokandi', 'Greg Ostertag', 'Bo Outlaw', 'Doug Overton', 'Billy Owens', 'Robert Pack', 'Scott Padgett', 'Milt Palacio', 'Anthony Parker', 'Cherokee Parks', 'Andrae Patterson', 'Ruben Patterson', 'Gary Payton*', 'Anthony Peeler', 'Will Perdue', 'Sam Perkins', 'Elliot Perry', 'Chuck Person', 'Wesley Person', 'Bobby Phills', 'Eric Piatkowski', 'Paul Pierce*', 'Scottie Pippen*', 'Scot Pollard', 'Olden Polynice', 'Terry Porter', 'James Posey', 'Vitaly Potapenko', 'Brent Price', 'Laron Profit', 'Aleksandar Radojević', 'Theo Ratliff', 'Eldridge Recasner', 'Bryant Reeves', 'Khalid Reeves', 'Don Reid', 'J.R. Reid', 'Rodrick Rhodes', 'Glen Rice', 'Mitch Richmond*', 'Isaiah Rider', 'Stanley Roberts', 'Ryan Robertson', 'Clifford Robinson', 'David Robinson*', 'Eddie Robinson', 'Glenn Robinson', 'Dennis Rodman*', 'Carlos Rogers', 'Rodney Rogers', 'Roy Rogers', 'Sean Rooks', 'Jalen Rose', 'Malik Rose', 'Michael Ruffin', 'Bryon Russell', 'Arvydas Sabonis*', 'John Salley', 'Detlef Schrempf', 'Dennis Scott', 'Malik Sealy', 'Brian Shaw', 'Dickey Simpkins', 'Brian Skinner', 'Joe Smith', 'Michael Smith', 'Steve Smith', 'Rik Smits', 'Eric Snow', 'Felton Spencer', 'Latrell Sprewell', 'Ryan Stack', 'Jerry Stackhouse', 'John Starks', 'Vladimir Stepania', 'Joe Stephens', 'Michael Stewart', 'Bryant Stith', 'John Stockton*', 'Peja Stojaković', 'Damon Stoudamire', 'Erick Strickland', 'Mark Strickland', 'Rod Strickland', 'Derek Strong', 'Bruno Šundov', 'Bob Sura', 'Wally Szczerbiak', 'Žan Tabak', 'Johnny Taylor', 'Maurice Taylor', 'Jason Terry', 'Jamel Thomas', 'John Thomas', 'Kenny Thomas', 'Kurt Thomas', 'Tim Thomas', 'Otis Thorpe', 'Robert Traylor', 'Gary Trent', 'Mirsad Türkcan', 'Wayne Turner', 'Nick Van Exel', 'Keith Van Horn', 'Jacque Vaughn', 'Loy Vaught', 'Fred Vinson', 'Antoine Walker', 'Samaki Walker', 'Ben Wallace*', 'John Wallace', 'Rasheed Wallace', 'Rex Walters', 'Charlie Ward', 'Clarence Weatherspoon', 'Chris Webber*', 'Bonzi Wells', 'Bill Wennington', 'David Wesley', 'Doug West', 'Mark West', 'Jahidi White', 'Chris Whitney', 'Aaron Williams', 'Alvin Williams', 'Eric Williams', 'Jason Williams', 'Jerome Williams', 'Lorenzo Williams', 'Monty Williams', 'Scott Williams', 'Shammond Williams', 'Walt Williams', 'Corliss Williamson', 'Kevin Willis', 'Dedric Willoughby', 'David Wingate', 'Haywoode Workman', 'Metta World Peace', 'Lorenzen Wright', 'Tim Young']\n"
     ]
    }
   ],
   "source": [
    "URL = f'https://www.basketball-reference.com/leagues/NBA_{year}_totals.html#totals_stats::pts'\n",
    "\n",
    "site = requests.get(URL)\n",
    "soup = BeautifulSoup(site.text, 'html')\n",
    "table = soup.find('table')\n",
    "tbody = table.find('tbody')\n",
    "playername = tbody.find_all('td', {'data-stat':'player'})\n",
    "realplayernames = [name.text for name in playername]\n",
    "realplayernames = list(dict.fromkeys(realplayernames)) #Removendo nomes duplicados\n",
    "print(realplayernames)"
   ]
  },
  {
   "cell_type": "code",
   "execution_count": 17,
   "metadata": {},
   "outputs": [],
   "source": [
    "tr = tbody.find_all('tr')\n",
    "urlname = []\n",
    "\n",
    "for i in tr:\n",
    "    td = i.find('td')\n",
    "    if td is not None:\n",
    "        urlname.append(list(td.attrs.values())[1])\n",
    "\n",
    "urlname = list(dict.fromkeys(urlname))"
   ]
  },
  {
   "cell_type": "code",
   "execution_count": 18,
   "metadata": {},
   "outputs": [],
   "source": [
    "first_letter = []\n",
    "for i in realplayernames:\n",
    "    first_letter.append(i[:1])"
   ]
  },
  {
   "cell_type": "code",
   "execution_count": 47,
   "metadata": {},
   "outputs": [],
   "source": [
    "from time import sleep\n",
    "\n",
    "headers = list(range(1,83))\n",
    "headers.insert(0,'Player')\n",
    "dff = pd.DataFrame(columns = headers)\n",
    "\n",
    "ignore_rows = [20,41,62,83]\n",
    "\n",
    "for x in range(0,len(realplayernames)):\n",
    "    URL = f'https://www.basketball-reference.com/players/{first_letter[x]}/{urlname[x]}/gamelog/{year}'\n",
    "    sleep(5)\n",
    "    site = requests.get(URL)\n",
    "    soup = BeautifulSoup(site.text,'html')\n",
    "    table = soup.find('table',{'id':'pgl_basic'})\n",
    "    tbody = table.find('tbody')\n",
    "    tr = tbody.find_all('tr')\n",
    "\n",
    "    points = []\n",
    "    for k in range(0,len(tr)):\n",
    "        points_value = tr[k].find('td',{'data-stat':'pts'})\n",
    "        if points_value is not None: \n",
    "            points.append(int(points_value.text))\n",
    "        elif k not in ignore_rows:\n",
    "            points.append(0)\n",
    "    if len(points) < 82:\n",
    "        for i in range(0,(83 - len(points))):\n",
    "            points.append(0)\n",
    "    new_row = points[0:82]\n",
    "    new_row.insert(0,realplayernames[x])\n",
    "    new_df = pd.DataFrame([new_row], columns = dff.columns)\n",
    "    dff = pd.concat([dff,new_df], ignore_index = True)\n"
   ]
  },
  {
   "cell_type": "code",
   "execution_count": 54,
   "metadata": {},
   "outputs": [],
   "source": [
    "for x in range(2,83):\n",
    "    dff[x] = dff[[x-1,x]].sum(axis=1)"
   ]
  },
  {
   "cell_type": "code",
   "execution_count": 56,
   "metadata": {},
   "outputs": [],
   "source": [
    "dff = dff.sort_values(by=82,ascending=False)"
   ]
  },
  {
   "cell_type": "code",
   "execution_count": 58,
   "metadata": {},
   "outputs": [],
   "source": [
    "dff.to_csv(f'NBA {year - 1}-{year[2:]} Regular Season Scoring Leaders.csv', index=False)"
   ]
  }
 ],
 "metadata": {
  "kernelspec": {
   "display_name": "Python 3",
   "language": "python",
   "name": "python3"
  },
  "language_info": {
   "codemirror_mode": {
    "name": "ipython",
    "version": 3
   },
   "file_extension": ".py",
   "mimetype": "text/x-python",
   "name": "python",
   "nbconvert_exporter": "python",
   "pygments_lexer": "ipython3",
   "version": "3.12.2"
  }
 },
 "nbformat": 4,
 "nbformat_minor": 2
}
